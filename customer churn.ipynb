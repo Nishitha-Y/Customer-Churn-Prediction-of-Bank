{
 "cells": [
  {
   "cell_type": "markdown",
   "id": "fd2bcca5",
   "metadata": {},
   "source": [
    "### Problem Statement:-"
   ]
  },
  {
   "cell_type": "markdown",
   "id": "18cef4f9",
   "metadata": {},
   "source": [
    "Decreasing the Customer Churn is a key goal for any business. Predicting Customer Churn (also known as Customer Attrition) represents an additional potential revenue source for any business. Customer Churn impacts the cost to the business. Higher Customer Churn leads to loss in revenue and the additional marketing costs involved with replacing those customers with new ones. \n",
    "\n",
    "In this challenge, as a data scientist of a bank, you are asked to analyze the past data and predict whether the customer will churn or not in the next 6 months. This would help the bank to have the right engagement with customers at the right time."
   ]
  },
  {
   "cell_type": "markdown",
   "id": "b198b919",
   "metadata": {},
   "source": [
    "### Objective:-"
   ]
  },
  {
   "cell_type": "markdown",
   "id": "57588244",
   "metadata": {},
   "source": [
    "Our objective is to build a machine learning model to predict whether the customer will churn or not in the next six months.\n"
   ]
  },
  {
   "cell_type": "markdown",
   "id": "d222b2dd",
   "metadata": {},
   "source": [
    "### Importing required libraries"
   ]
  },
  {
   "cell_type": "code",
   "execution_count": 1,
   "id": "7b8cf161",
   "metadata": {},
   "outputs": [],
   "source": [
    "import numpy as np  # linear algebra\n",
    "\n",
    "import pandas as pd  # data processing and manipulation\n",
    "\n",
    "import matplotlib.pyplot as plt  #for visualization\n",
    "\n",
    "import seaborn as sns   #for visualization\n",
    "\n",
    "import warnings   #for ignoring warnings\n",
    "\n",
    "warnings.filterwarnings('ignore')"
   ]
  },
  {
   "cell_type": "markdown",
   "id": "8972fc1a",
   "metadata": {},
   "source": [
    "### Importing given dataset"
   ]
  },
  {
   "cell_type": "code",
   "execution_count": 2,
   "id": "af64800a",
   "metadata": {},
   "outputs": [],
   "source": [
    "#here we are importing datasets and storing them to dataframes train and test\n",
    "\n",
    "train = pd.read_csv('train_PDjVQMB.csv')\n",
    "\n",
    "test = pd.read_csv('test_lTY72QC.csv')\n"
   ]
  },
  {
   "cell_type": "code",
   "execution_count": 3,
   "id": "e772a3fc",
   "metadata": {},
   "outputs": [
    {
     "data": {
      "text/html": [
       "<div>\n",
       "<style scoped>\n",
       "    .dataframe tbody tr th:only-of-type {\n",
       "        vertical-align: middle;\n",
       "    }\n",
       "\n",
       "    .dataframe tbody tr th {\n",
       "        vertical-align: top;\n",
       "    }\n",
       "\n",
       "    .dataframe thead th {\n",
       "        text-align: right;\n",
       "    }\n",
       "</style>\n",
       "<table border=\"1\" class=\"dataframe\">\n",
       "  <thead>\n",
       "    <tr style=\"text-align: right;\">\n",
       "      <th></th>\n",
       "      <th>ID</th>\n",
       "      <th>Age</th>\n",
       "      <th>Gender</th>\n",
       "      <th>Income</th>\n",
       "      <th>Balance</th>\n",
       "      <th>Vintage</th>\n",
       "      <th>Transaction_Status</th>\n",
       "      <th>Product_Holdings</th>\n",
       "      <th>Credit_Card</th>\n",
       "      <th>Credit_Category</th>\n",
       "      <th>Is_Churn</th>\n",
       "    </tr>\n",
       "  </thead>\n",
       "  <tbody>\n",
       "    <tr>\n",
       "      <th>0</th>\n",
       "      <td>84e2fcc9</td>\n",
       "      <td>36</td>\n",
       "      <td>Female</td>\n",
       "      <td>5L - 10L</td>\n",
       "      <td>563266.44</td>\n",
       "      <td>4</td>\n",
       "      <td>0</td>\n",
       "      <td>1</td>\n",
       "      <td>0</td>\n",
       "      <td>Average</td>\n",
       "      <td>1</td>\n",
       "    </tr>\n",
       "    <tr>\n",
       "      <th>1</th>\n",
       "      <td>57fea15e</td>\n",
       "      <td>53</td>\n",
       "      <td>Female</td>\n",
       "      <td>Less than 5L</td>\n",
       "      <td>875572.11</td>\n",
       "      <td>2</td>\n",
       "      <td>1</td>\n",
       "      <td>1</td>\n",
       "      <td>1</td>\n",
       "      <td>Poor</td>\n",
       "      <td>0</td>\n",
       "    </tr>\n",
       "  </tbody>\n",
       "</table>\n",
       "</div>"
      ],
      "text/plain": [
       "         ID  Age  Gender        Income    Balance  Vintage  \\\n",
       "0  84e2fcc9   36  Female      5L - 10L  563266.44        4   \n",
       "1  57fea15e   53  Female  Less than 5L  875572.11        2   \n",
       "\n",
       "   Transaction_Status Product_Holdings  Credit_Card Credit_Category  Is_Churn  \n",
       "0                   0                1            0         Average         1  \n",
       "1                   1                1            1            Poor         0  "
      ]
     },
     "execution_count": 3,
     "metadata": {},
     "output_type": "execute_result"
    }
   ],
   "source": [
    "# here we are using head function to show first 2 rows of the train dataset\n",
    "\n",
    "train.head(2)\n"
   ]
  },
  {
   "cell_type": "markdown",
   "id": "8b369955",
   "metadata": {},
   "source": [
    "Feature description of train dataset :-\n",
    "\n",
    "    Train dataset contains the customer demographics and past activity with the bank. And also the target label representing whether the customer will churn or not.\n",
    "\n",
    "ID                      :     Unique Identifier of a row\n",
    "\n",
    "Age                     :     Age of the customer\n",
    "\n",
    "Gender                  :     Gender of the customer (Male and Female)\n",
    "\n",
    "Income                  :     Yearly income of the customer\n",
    "\n",
    "Balance                 :     Average quarterly balance of the customer\n",
    "\n",
    "Vintage                 :     No. of years the customer is associated with bank\n",
    "\n",
    "Transaction_Status      :     Whether the customer has done any transaction in the past 3 months or not\n",
    "\n",
    "Product_Holdings        :     No. of product holdings with the bank\n",
    "\n",
    "Credit_Card             :     Whether the customer has a credit card or not\n",
    "\n",
    "Credit_Category         :     Category of a customer based on the credit score\n",
    "\n",
    "Is_Churn                :     Whether the customer will churn in next 6 months or not\n",
    "\n"
   ]
  },
  {
   "cell_type": "code",
   "execution_count": 4,
   "id": "c6052e85",
   "metadata": {},
   "outputs": [
    {
     "data": {
      "text/html": [
       "<div>\n",
       "<style scoped>\n",
       "    .dataframe tbody tr th:only-of-type {\n",
       "        vertical-align: middle;\n",
       "    }\n",
       "\n",
       "    .dataframe tbody tr th {\n",
       "        vertical-align: top;\n",
       "    }\n",
       "\n",
       "    .dataframe thead th {\n",
       "        text-align: right;\n",
       "    }\n",
       "</style>\n",
       "<table border=\"1\" class=\"dataframe\">\n",
       "  <thead>\n",
       "    <tr style=\"text-align: right;\">\n",
       "      <th></th>\n",
       "      <th>ID</th>\n",
       "      <th>Age</th>\n",
       "      <th>Gender</th>\n",
       "      <th>Income</th>\n",
       "      <th>Balance</th>\n",
       "      <th>Vintage</th>\n",
       "      <th>Transaction_Status</th>\n",
       "      <th>Product_Holdings</th>\n",
       "      <th>Credit_Card</th>\n",
       "      <th>Credit_Category</th>\n",
       "    </tr>\n",
       "  </thead>\n",
       "  <tbody>\n",
       "    <tr>\n",
       "      <th>0</th>\n",
       "      <td>55480787</td>\n",
       "      <td>50</td>\n",
       "      <td>Female</td>\n",
       "      <td>More than 15L</td>\n",
       "      <td>1008636.39</td>\n",
       "      <td>2</td>\n",
       "      <td>1</td>\n",
       "      <td>2</td>\n",
       "      <td>1</td>\n",
       "      <td>Average</td>\n",
       "    </tr>\n",
       "    <tr>\n",
       "      <th>1</th>\n",
       "      <td>9aededf2</td>\n",
       "      <td>36</td>\n",
       "      <td>Male</td>\n",
       "      <td>5L - 10L</td>\n",
       "      <td>341460.72</td>\n",
       "      <td>2</td>\n",
       "      <td>0</td>\n",
       "      <td>2</td>\n",
       "      <td>1</td>\n",
       "      <td>Average</td>\n",
       "    </tr>\n",
       "  </tbody>\n",
       "</table>\n",
       "</div>"
      ],
      "text/plain": [
       "         ID  Age  Gender         Income     Balance  Vintage  \\\n",
       "0  55480787   50  Female  More than 15L  1008636.39        2   \n",
       "1  9aededf2   36    Male       5L - 10L   341460.72        2   \n",
       "\n",
       "   Transaction_Status Product_Holdings  Credit_Card Credit_Category  \n",
       "0                   1                2            1         Average  \n",
       "1                   0                2            1         Average  "
      ]
     },
     "execution_count": 4,
     "metadata": {},
     "output_type": "execute_result"
    }
   ],
   "source": [
    "# here we are using head function to show first 2 rows of the test dataset\n",
    "\n",
    "test.head(2)\n"
   ]
  },
  {
   "cell_type": "markdown",
   "id": "1dd68b34",
   "metadata": {},
   "source": [
    "Feature description of test dataset :-\n",
    "\n",
    "    Test dataset contains the customer demographics and past activity with the bank. And you need to predict whether the customer will churn or not.\n",
    "\n",
    "ID : Unique Identifier of a row\n",
    "\n",
    "Age : Age of the customer\n",
    "\n",
    "Gender : Gender of the customer (Male and Female)\n",
    "\n",
    "Income : Yearly income of the customer\n",
    "\n",
    "Balance : Average quarterly balance of the customer\n",
    "\n",
    "Vintage : No. of years the customer is associated with bank\n",
    "\n",
    "Transaction_Status : Whether the customer has done any transaction in the past 3 months or not\n",
    "\n",
    "Product_Holdings : No. of product holdings with the bank\n",
    "\n",
    "Credit_Card : Whether the customer has a credit card or not\n",
    "\n",
    "Credit_Category : Category of a customer based on the credit score"
   ]
  },
  {
   "cell_type": "code",
   "execution_count": 5,
   "id": "65c9e421",
   "metadata": {},
   "outputs": [
    {
     "name": "stdout",
     "output_type": "stream",
     "text": [
      "Overview of the dataset:\n",
      "\n",
      "Number of rows:  6650\n",
      "\n",
      "Number of features: 11\n",
      "\n",
      "Data Features:\n",
      "['ID', 'Age', 'Gender', 'Income', 'Balance', 'Vintage', 'Transaction_Status', 'Product_Holdings', 'Credit_Card', 'Credit_Category', 'Is_Churn']\n",
      "\n",
      "Missing values: 0\n",
      "\n",
      "Unique values:\n",
      "ID                    6650\n",
      "Age                     52\n",
      "Gender                   2\n",
      "Income                   4\n",
      "Balance               6643\n",
      "Vintage                  6\n",
      "Transaction_Status       2\n",
      "Product_Holdings         3\n",
      "Credit_Card              2\n",
      "Credit_Category          3\n",
      "Is_Churn                 2\n",
      "dtype: int64\n",
      "\n",
      "duplicate rows: False    6650\n",
      "dtype: int64\n"
     ]
    }
   ],
   "source": [
    "# here we are defining a function data overview to get overview of data\n",
    "\n",
    "def dataoveriew(data, message):\n",
    "    \n",
    "    print(f'{message}:\\n')\n",
    "    \n",
    "    # here we are using shape function and axis 0 to get row count\n",
    "    print('Number of rows: ', data.shape[0])\n",
    "    \n",
    "    #here we are using shape function and axis 1 to get column count\n",
    "    print(\"\\nNumber of features:\", data.shape[1])\n",
    "    \n",
    "    print(\"\\nData Features:\")\n",
    "    \n",
    "    #here we are using columns function to get column list\n",
    "    print(data.columns.tolist())\n",
    "    \n",
    "    #here we are using isnull function to get null value count\n",
    "    print(\"\\nMissing values:\", data.isnull().sum().values.sum())\n",
    "    \n",
    "    print(\"\\nUnique values:\")\n",
    "    \n",
    "    #here we are using nunique function to get unique values\n",
    "    print(data.nunique())\n",
    "    \n",
    "    #here we are using duplicated function to get duplicate rows count\n",
    "    print(\"\\nduplicate rows:\", data.duplicated().value_counts())\n",
    "    \n",
    "dataoveriew(train, 'Overview of the dataset')"
   ]
  },
  {
   "cell_type": "markdown",
   "id": "cb617ce9",
   "metadata": {},
   "source": [
    "From the above output we can understand that train dataset has 6650 rows and 11 columns. There are no null values present in the dataset and there are no duplicated rows."
   ]
  },
  {
   "cell_type": "code",
   "execution_count": 6,
   "id": "7158c3be",
   "metadata": {},
   "outputs": [
    {
     "name": "stdout",
     "output_type": "stream",
     "text": [
      "<class 'pandas.core.frame.DataFrame'>\n",
      "RangeIndex: 6650 entries, 0 to 6649\n",
      "Data columns (total 11 columns):\n",
      " #   Column              Non-Null Count  Dtype  \n",
      "---  ------              --------------  -----  \n",
      " 0   ID                  6650 non-null   object \n",
      " 1   Age                 6650 non-null   int64  \n",
      " 2   Gender              6650 non-null   object \n",
      " 3   Income              6650 non-null   object \n",
      " 4   Balance             6650 non-null   float64\n",
      " 5   Vintage             6650 non-null   int64  \n",
      " 6   Transaction_Status  6650 non-null   int64  \n",
      " 7   Product_Holdings    6650 non-null   object \n",
      " 8   Credit_Card         6650 non-null   int64  \n",
      " 9   Credit_Category     6650 non-null   object \n",
      " 10  Is_Churn            6650 non-null   int64  \n",
      "dtypes: float64(1), int64(5), object(5)\n",
      "memory usage: 571.6+ KB\n"
     ]
    }
   ],
   "source": [
    "#here we are using info function to check the datatypes of columns and non null value count\n",
    "\n",
    "train.info()"
   ]
  },
  {
   "cell_type": "markdown",
   "id": "eb7b5ed3",
   "metadata": {},
   "source": [
    "from the output we can state that there are no null values present in the dataset but the product holdings feature has to be in interger format but it is in object format we need to change that."
   ]
  },
  {
   "cell_type": "code",
   "execution_count": 7,
   "id": "4f2d3b67",
   "metadata": {},
   "outputs": [],
   "source": [
    "#here we are using to numeric function to change the datatype of product_holdings\n",
    "\n",
    "#here we are using errors = coerce because there is a string i.e; 3+ present in the column \n",
    "\n",
    "#after using errors = coerce it will replace strings with null values\n",
    "\n",
    "train['Product_Holdings'] = pd.to_numeric(train['Product_Holdings'], errors='coerce')\n",
    "\n",
    "#filling null values with 3 as earlier the string is 3+\n",
    "\n",
    "train['Product_Holdings'] = train['Product_Holdings'].fillna(3)\n",
    "\n",
    "#converting product holdings float to int\n",
    "\n",
    "train['Product_Holdings'] = train['Product_Holdings'].astype(np.int64)\n"
   ]
  },
  {
   "cell_type": "code",
   "execution_count": 8,
   "id": "bddf677e",
   "metadata": {},
   "outputs": [],
   "source": [
    "#again we are changing datatype for test set as well\n",
    "\n",
    "test['Product_Holdings'] = pd.to_numeric(test['Product_Holdings'], errors='coerce')\n",
    "\n",
    "test['Product_Holdings'] = test['Product_Holdings'].fillna(3)\n",
    "\n",
    "test['Product_Holdings'] = test['Product_Holdings'].astype(np.int64)"
   ]
  },
  {
   "cell_type": "code",
   "execution_count": 9,
   "id": "852778f2",
   "metadata": {},
   "outputs": [
    {
     "data": {
      "text/plain": [
       "ID                     object\n",
       "Age                     int64\n",
       "Gender                 object\n",
       "Income                 object\n",
       "Balance               float64\n",
       "Vintage                 int64\n",
       "Transaction_Status      int64\n",
       "Product_Holdings        int64\n",
       "Credit_Card             int64\n",
       "Credit_Category        object\n",
       "Is_Churn                int64\n",
       "dtype: object"
      ]
     },
     "execution_count": 9,
     "metadata": {},
     "output_type": "execute_result"
    }
   ],
   "source": [
    "#again checking for datatypes\n",
    "\n",
    "train.dtypes"
   ]
  },
  {
   "cell_type": "markdown",
   "id": "f2529c01",
   "metadata": {},
   "source": [
    "As we see we got the clean dataset we can go for further analysis"
   ]
  },
  {
   "cell_type": "code",
   "execution_count": 10,
   "id": "53d814fb",
   "metadata": {},
   "outputs": [
    {
     "data": {
      "text/html": [
       "<div>\n",
       "<style scoped>\n",
       "    .dataframe tbody tr th:only-of-type {\n",
       "        vertical-align: middle;\n",
       "    }\n",
       "\n",
       "    .dataframe tbody tr th {\n",
       "        vertical-align: top;\n",
       "    }\n",
       "\n",
       "    .dataframe thead th {\n",
       "        text-align: right;\n",
       "    }\n",
       "</style>\n",
       "<table border=\"1\" class=\"dataframe\">\n",
       "  <thead>\n",
       "    <tr style=\"text-align: right;\">\n",
       "      <th></th>\n",
       "      <th>Age</th>\n",
       "      <th>Balance</th>\n",
       "      <th>Vintage</th>\n",
       "      <th>Transaction_Status</th>\n",
       "      <th>Product_Holdings</th>\n",
       "      <th>Credit_Card</th>\n",
       "      <th>Is_Churn</th>\n",
       "    </tr>\n",
       "  </thead>\n",
       "  <tbody>\n",
       "    <tr>\n",
       "      <th>count</th>\n",
       "      <td>6650.000000</td>\n",
       "      <td>6.650000e+03</td>\n",
       "      <td>6650.000000</td>\n",
       "      <td>6650.000000</td>\n",
       "      <td>6650.000000</td>\n",
       "      <td>6650.000000</td>\n",
       "      <td>6650.000000</td>\n",
       "    </tr>\n",
       "    <tr>\n",
       "      <th>mean</th>\n",
       "      <td>41.130226</td>\n",
       "      <td>8.045954e+05</td>\n",
       "      <td>2.250226</td>\n",
       "      <td>0.515789</td>\n",
       "      <td>1.559098</td>\n",
       "      <td>0.664361</td>\n",
       "      <td>0.231128</td>\n",
       "    </tr>\n",
       "    <tr>\n",
       "      <th>std</th>\n",
       "      <td>9.685747</td>\n",
       "      <td>5.157549e+05</td>\n",
       "      <td>1.458795</td>\n",
       "      <td>0.499788</td>\n",
       "      <td>0.571977</td>\n",
       "      <td>0.472249</td>\n",
       "      <td>0.421586</td>\n",
       "    </tr>\n",
       "    <tr>\n",
       "      <th>min</th>\n",
       "      <td>21.000000</td>\n",
       "      <td>6.300000e+01</td>\n",
       "      <td>0.000000</td>\n",
       "      <td>0.000000</td>\n",
       "      <td>1.000000</td>\n",
       "      <td>0.000000</td>\n",
       "      <td>0.000000</td>\n",
       "    </tr>\n",
       "    <tr>\n",
       "      <th>25%</th>\n",
       "      <td>34.000000</td>\n",
       "      <td>3.922642e+05</td>\n",
       "      <td>1.000000</td>\n",
       "      <td>0.000000</td>\n",
       "      <td>1.000000</td>\n",
       "      <td>0.000000</td>\n",
       "      <td>0.000000</td>\n",
       "    </tr>\n",
       "    <tr>\n",
       "      <th>50%</th>\n",
       "      <td>40.000000</td>\n",
       "      <td>7.649386e+05</td>\n",
       "      <td>2.000000</td>\n",
       "      <td>1.000000</td>\n",
       "      <td>2.000000</td>\n",
       "      <td>1.000000</td>\n",
       "      <td>0.000000</td>\n",
       "    </tr>\n",
       "    <tr>\n",
       "      <th>75%</th>\n",
       "      <td>47.000000</td>\n",
       "      <td>1.147124e+06</td>\n",
       "      <td>3.000000</td>\n",
       "      <td>1.000000</td>\n",
       "      <td>2.000000</td>\n",
       "      <td>1.000000</td>\n",
       "      <td>0.000000</td>\n",
       "    </tr>\n",
       "    <tr>\n",
       "      <th>max</th>\n",
       "      <td>72.000000</td>\n",
       "      <td>2.436616e+06</td>\n",
       "      <td>5.000000</td>\n",
       "      <td>1.000000</td>\n",
       "      <td>3.000000</td>\n",
       "      <td>1.000000</td>\n",
       "      <td>1.000000</td>\n",
       "    </tr>\n",
       "  </tbody>\n",
       "</table>\n",
       "</div>"
      ],
      "text/plain": [
       "               Age       Balance      Vintage  Transaction_Status  \\\n",
       "count  6650.000000  6.650000e+03  6650.000000         6650.000000   \n",
       "mean     41.130226  8.045954e+05     2.250226            0.515789   \n",
       "std       9.685747  5.157549e+05     1.458795            0.499788   \n",
       "min      21.000000  6.300000e+01     0.000000            0.000000   \n",
       "25%      34.000000  3.922642e+05     1.000000            0.000000   \n",
       "50%      40.000000  7.649386e+05     2.000000            1.000000   \n",
       "75%      47.000000  1.147124e+06     3.000000            1.000000   \n",
       "max      72.000000  2.436616e+06     5.000000            1.000000   \n",
       "\n",
       "       Product_Holdings  Credit_Card     Is_Churn  \n",
       "count       6650.000000  6650.000000  6650.000000  \n",
       "mean           1.559098     0.664361     0.231128  \n",
       "std            0.571977     0.472249     0.421586  \n",
       "min            1.000000     0.000000     0.000000  \n",
       "25%            1.000000     0.000000     0.000000  \n",
       "50%            2.000000     1.000000     0.000000  \n",
       "75%            2.000000     1.000000     0.000000  \n",
       "max            3.000000     1.000000     1.000000  "
      ]
     },
     "execution_count": 10,
     "metadata": {},
     "output_type": "execute_result"
    }
   ],
   "source": [
    "#here we are using describe function to check basic statistical values\n",
    "\n",
    "train.describe()"
   ]
  },
  {
   "cell_type": "code",
   "execution_count": 11,
   "id": "7f926dbb",
   "metadata": {},
   "outputs": [
    {
     "data": {
      "text/plain": [
       "0    5113\n",
       "1    1537\n",
       "Name: Is_Churn, dtype: int64"
      ]
     },
     "execution_count": 11,
     "metadata": {},
     "output_type": "execute_result"
    }
   ],
   "source": [
    "#here we are using value_counts to get churn counts\n",
    "\n",
    "train.Is_Churn.value_counts()\n",
    "\n"
   ]
  },
  {
   "cell_type": "code",
   "execution_count": 12,
   "id": "8ee9feed",
   "metadata": {},
   "outputs": [
    {
     "data": {
      "image/png": "[encoded data removed]",
      "text/plain": [
       "<Figure size 432x288 with 1 Axes>"
      ]
     },
     "metadata": {},
     "output_type": "display_data"
    }
   ],
   "source": [
    "#here we are using plt.pie to show the percentage differences in churn count\n",
    "\n",
    "target = train[\"Is_Churn\"].value_counts().to_frame()\n",
    "target = target.reset_index()\n",
    "target = target.rename(columns={'index': 'Category'})\n",
    "\n",
    "plt.pie(target[\"Is_Churn\"], labels = target[\"Category\"], autopct='%1.1f%%')\n",
    "\n",
    "plt.show()"
   ]
  },
  {
   "cell_type": "markdown",
   "id": "b59b289e",
   "metadata": {},
   "source": [
    "As we can see from the outputs our target variable churn has imbalanced class distribution. It effects the performance of model negatively. We can overcome the issue by using upsampling and downsampling methods."
   ]
  },
  {
   "cell_type": "markdown",
   "id": "31eb8e5d",
   "metadata": {},
   "source": [
    "It's important to discover the features before go for model building"
   ]
  },
  {
   "cell_type": "code",
   "execution_count": 13,
   "id": "7ebd0956",
   "metadata": {},
   "outputs": [
    {
     "data": {
      "text/plain": [
       "['Gender', 'Transaction_Status', 'Credit_Card', 'Is_Churn']"
      ]
     },
     "execution_count": 13,
     "metadata": {},
     "output_type": "execute_result"
    }
   ],
   "source": [
    "#here we are using for loop to extract binary coumns\n",
    "\n",
    "columns = train.columns\n",
    "\n",
    "binary_cols = []\n",
    "\n",
    "for col in columns:\n",
    "    \n",
    "    if train[col].value_counts().shape[0] == 2:\n",
    "        \n",
    "        binary_cols.append(col)\n",
    "        \n",
    "#categorical features with two classes\n",
    "        \n",
    "binary_cols"
   ]
  },
  {
   "cell_type": "code",
   "execution_count": 14,
   "id": "f68897e6",
   "metadata": {},
   "outputs": [
    {
     "data": {
      "text/plain": [
       "['Income', 'Product_Holdings', 'Credit_Category', 'Vintage']"
      ]
     },
     "execution_count": 14,
     "metadata": {},
     "output_type": "execute_result"
    }
   ],
   "source": [
    "#Categorical features with multiple classes\n",
    "\n",
    "multiple_catcol = ['Income','Product_Holdings','Credit_Category','Vintage']\n",
    "\n",
    "multiple_catcol"
   ]
  },
  {
   "cell_type": "code",
   "execution_count": 15,
   "id": "67a72ca4",
   "metadata": {},
   "outputs": [
    {
     "data": {
      "image/png": "[encoded data removed]",
      "text/plain": [
       "<Figure size 864x504 with 4 Axes>"
      ]
     },
     "metadata": {
      "needs_background": "light"
     },
     "output_type": "display_data"
    }
   ],
   "source": [
    "#here we are using countplot to check the class distribution of the binary columns\n",
    "\n",
    "fig, axes = plt.subplots(2, 2, figsize=(12, 7), sharey=True)\n",
    "\n",
    "sns.countplot(\"Gender\", data=train, ax=axes[0,0])\n",
    "\n",
    "sns.countplot(\"Transaction_Status\", data=train, ax=axes[0,1])\n",
    "\n",
    "sns.countplot(\"Credit_Card\", data=train, ax=axes[1,0])\n",
    "\n",
    "plt.show()"
   ]
  },
  {
   "cell_type": "markdown",
   "id": "0c652dd1",
   "metadata": {},
   "source": [
    "There is high imbalance in credit card variable. most of the people have credit cards. Let's check the target variable changes according to binary features."
   ]
  },
  {
   "cell_type": "code",
   "execution_count": 16,
   "id": "5ace23fa",
   "metadata": {},
   "outputs": [
    {
     "data": {
      "text/html": [
       "<div>\n",
       "<style scoped>\n",
       "    .dataframe tbody tr th:only-of-type {\n",
       "        vertical-align: middle;\n",
       "    }\n",
       "\n",
       "    .dataframe tbody tr th {\n",
       "        vertical-align: top;\n",
       "    }\n",
       "\n",
       "    .dataframe thead th {\n",
       "        text-align: right;\n",
       "    }\n",
       "</style>\n",
       "<table border=\"1\" class=\"dataframe\">\n",
       "  <thead>\n",
       "    <tr style=\"text-align: right;\">\n",
       "      <th></th>\n",
       "      <th>Is_Churn</th>\n",
       "    </tr>\n",
       "    <tr>\n",
       "      <th>Gender</th>\n",
       "      <th></th>\n",
       "    </tr>\n",
       "  </thead>\n",
       "  <tbody>\n",
       "    <tr>\n",
       "      <th>Female</th>\n",
       "      <td>0.25576</td>\n",
       "    </tr>\n",
       "    <tr>\n",
       "      <th>Male</th>\n",
       "      <td>0.21041</td>\n",
       "    </tr>\n",
       "  </tbody>\n",
       "</table>\n",
       "</div>"
      ],
      "text/plain": [
       "        Is_Churn\n",
       "Gender          \n",
       "Female   0.25576\n",
       "Male     0.21041"
      ]
     },
     "execution_count": 16,
     "metadata": {},
     "output_type": "execute_result"
    }
   ],
   "source": [
    "#here we are using groupby function to check variation of churn rate in gender\n",
    "\n",
    "train[['Gender','Is_Churn']].groupby(['Gender']).mean()"
   ]
  },
  {
   "cell_type": "markdown",
   "id": "54d1696f",
   "metadata": {},
   "source": [
    "Average churn rate is approximately same for male and female so variable gender won't give us valuable prediction to model so I'm not going to use this variable in model."
   ]
  },
  {
   "cell_type": "code",
   "execution_count": 17,
   "id": "68f7d057",
   "metadata": {},
   "outputs": [
    {
     "data": {
      "text/html": [
       "<div>\n",
       "<style scoped>\n",
       "    .dataframe tbody tr th:only-of-type {\n",
       "        vertical-align: middle;\n",
       "    }\n",
       "\n",
       "    .dataframe tbody tr th {\n",
       "        vertical-align: top;\n",
       "    }\n",
       "\n",
       "    .dataframe thead th {\n",
       "        text-align: right;\n",
       "    }\n",
       "</style>\n",
       "<table border=\"1\" class=\"dataframe\">\n",
       "  <thead>\n",
       "    <tr style=\"text-align: right;\">\n",
       "      <th></th>\n",
       "      <th>Is_Churn</th>\n",
       "    </tr>\n",
       "    <tr>\n",
       "      <th>Transaction_Status</th>\n",
       "      <th></th>\n",
       "    </tr>\n",
       "  </thead>\n",
       "  <tbody>\n",
       "    <tr>\n",
       "      <th>0</th>\n",
       "      <td>0.268944</td>\n",
       "    </tr>\n",
       "    <tr>\n",
       "      <th>1</th>\n",
       "      <td>0.195627</td>\n",
       "    </tr>\n",
       "  </tbody>\n",
       "</table>\n",
       "</div>"
      ],
      "text/plain": [
       "                    Is_Churn\n",
       "Transaction_Status          \n",
       "0                   0.268944\n",
       "1                   0.195627"
      ]
     },
     "execution_count": 17,
     "metadata": {},
     "output_type": "execute_result"
    }
   ],
   "source": [
    "train[['Transaction_Status','Is_Churn']].groupby(['Transaction_Status']).mean()"
   ]
  },
  {
   "cell_type": "code",
   "execution_count": 18,
   "id": "6a01cf68",
   "metadata": {},
   "outputs": [
    {
     "data": {
      "text/html": [
       "<div>\n",
       "<style scoped>\n",
       "    .dataframe tbody tr th:only-of-type {\n",
       "        vertical-align: middle;\n",
       "    }\n",
       "\n",
       "    .dataframe tbody tr th {\n",
       "        vertical-align: top;\n",
       "    }\n",
       "\n",
       "    .dataframe thead th {\n",
       "        text-align: right;\n",
       "    }\n",
       "</style>\n",
       "<table border=\"1\" class=\"dataframe\">\n",
       "  <thead>\n",
       "    <tr style=\"text-align: right;\">\n",
       "      <th></th>\n",
       "      <th>Is_Churn</th>\n",
       "    </tr>\n",
       "    <tr>\n",
       "      <th>Credit_Card</th>\n",
       "      <th></th>\n",
       "    </tr>\n",
       "  </thead>\n",
       "  <tbody>\n",
       "    <tr>\n",
       "      <th>0</th>\n",
       "      <td>0.231631</td>\n",
       "    </tr>\n",
       "    <tr>\n",
       "      <th>1</th>\n",
       "      <td>0.230874</td>\n",
       "    </tr>\n",
       "  </tbody>\n",
       "</table>\n",
       "</div>"
      ],
      "text/plain": [
       "             Is_Churn\n",
       "Credit_Card          \n",
       "0            0.231631\n",
       "1            0.230874"
      ]
     },
     "execution_count": 18,
     "metadata": {},
     "output_type": "execute_result"
    }
   ],
   "source": [
    "train[['Credit_Card','Is_Churn']].groupby(['Credit_Card']).mean()"
   ]
  },
  {
   "cell_type": "markdown",
   "id": "166d3cd9",
   "metadata": {},
   "source": [
    "Transaction status has an effect on target variable and credit card won't effecting it. So I'm using Transaction status in my model."
   ]
  },
  {
   "cell_type": "code",
   "execution_count": 19,
   "id": "5d462e7b",
   "metadata": {},
   "outputs": [
    {
     "data": {
      "text/plain": [
       "<AxesSubplot:xlabel='Income', ylabel='count'>"
      ]
     },
     "execution_count": 19,
     "metadata": {},
     "output_type": "execute_result"
    },
    {
     "data": {
      "image/png": "[encoded data removed]",
      "text/plain": [
       "<Figure size 720x432 with 1 Axes>"
      ]
     },
     "metadata": {
      "needs_background": "light"
     },
     "output_type": "display_data"
    }
   ],
   "source": [
    "#here we are using countplot to check the distribution of income\n",
    "\n",
    "plt.figure(figsize=(10,6))\n",
    "\n",
    "sns.countplot(\"Income\", data=train)"
   ]
  },
  {
   "cell_type": "code",
   "execution_count": 20,
   "id": "43c22745",
   "metadata": {},
   "outputs": [
    {
     "data": {
      "text/html": [
       "<div>\n",
       "<style scoped>\n",
       "    .dataframe tbody tr th:only-of-type {\n",
       "        vertical-align: middle;\n",
       "    }\n",
       "\n",
       "    .dataframe tbody tr th {\n",
       "        vertical-align: top;\n",
       "    }\n",
       "\n",
       "    .dataframe thead th {\n",
       "        text-align: right;\n",
       "    }\n",
       "</style>\n",
       "<table border=\"1\" class=\"dataframe\">\n",
       "  <thead>\n",
       "    <tr style=\"text-align: right;\">\n",
       "      <th></th>\n",
       "      <th>Is_Churn</th>\n",
       "    </tr>\n",
       "    <tr>\n",
       "      <th>Income</th>\n",
       "      <th></th>\n",
       "    </tr>\n",
       "  </thead>\n",
       "  <tbody>\n",
       "    <tr>\n",
       "      <th>10L - 15L</th>\n",
       "      <td>0.235544</td>\n",
       "    </tr>\n",
       "    <tr>\n",
       "      <th>5L - 10L</th>\n",
       "      <td>0.223064</td>\n",
       "    </tr>\n",
       "    <tr>\n",
       "      <th>Less than 5L</th>\n",
       "      <td>0.225048</td>\n",
       "    </tr>\n",
       "    <tr>\n",
       "      <th>More than 15L</th>\n",
       "      <td>0.243123</td>\n",
       "    </tr>\n",
       "  </tbody>\n",
       "</table>\n",
       "</div>"
      ],
      "text/plain": [
       "               Is_Churn\n",
       "Income                 \n",
       "10L - 15L      0.235544\n",
       "5L - 10L       0.223064\n",
       "Less than 5L   0.225048\n",
       "More than 15L  0.243123"
      ]
     },
     "execution_count": 20,
     "metadata": {},
     "output_type": "execute_result"
    }
   ],
   "source": [
    "# here again we are using groupby function to check the variation of churn rate in other categorical variables\n",
    "\n",
    "train[['Income','Is_Churn']].groupby(['Income']).mean()"
   ]
  },
  {
   "cell_type": "code",
   "execution_count": 21,
   "id": "67eae217",
   "metadata": {},
   "outputs": [
    {
     "data": {
      "text/plain": [
       "<AxesSubplot:xlabel='Product_Holdings', ylabel='count'>"
      ]
     },
     "execution_count": 21,
     "metadata": {},
     "output_type": "execute_result"
    },
    {
     "data": {
      "image/png": "[encoded data removed]",
      "text/plain": [
       "<Figure size 720x432 with 1 Axes>"
      ]
     },
     "metadata": {
      "needs_background": "light"
     },
     "output_type": "display_data"
    }
   ],
   "source": [
    "#here we are using countplot to check the distribution of product_holdings\n",
    "\n",
    "plt.figure(figsize=(10,6))\n",
    "\n",
    "sns.countplot(\"Product_Holdings\", data=train)"
   ]
  },
  {
   "cell_type": "code",
   "execution_count": 22,
   "id": "5c1117b2",
   "metadata": {},
   "outputs": [
    {
     "data": {
      "text/html": [
       "<div>\n",
       "<style scoped>\n",
       "    .dataframe tbody tr th:only-of-type {\n",
       "        vertical-align: middle;\n",
       "    }\n",
       "\n",
       "    .dataframe tbody tr th {\n",
       "        vertical-align: top;\n",
       "    }\n",
       "\n",
       "    .dataframe thead th {\n",
       "        text-align: right;\n",
       "    }\n",
       "</style>\n",
       "<table border=\"1\" class=\"dataframe\">\n",
       "  <thead>\n",
       "    <tr style=\"text-align: right;\">\n",
       "      <th></th>\n",
       "      <th>Is_Churn</th>\n",
       "    </tr>\n",
       "    <tr>\n",
       "      <th>Product_Holdings</th>\n",
       "      <th></th>\n",
       "    </tr>\n",
       "  </thead>\n",
       "  <tbody>\n",
       "    <tr>\n",
       "      <th>1</th>\n",
       "      <td>0.245625</td>\n",
       "    </tr>\n",
       "    <tr>\n",
       "      <th>2</th>\n",
       "      <td>0.217473</td>\n",
       "    </tr>\n",
       "    <tr>\n",
       "      <th>3</th>\n",
       "      <td>0.220149</td>\n",
       "    </tr>\n",
       "  </tbody>\n",
       "</table>\n",
       "</div>"
      ],
      "text/plain": [
       "                  Is_Churn\n",
       "Product_Holdings          \n",
       "1                 0.245625\n",
       "2                 0.217473\n",
       "3                 0.220149"
      ]
     },
     "execution_count": 22,
     "metadata": {},
     "output_type": "execute_result"
    }
   ],
   "source": [
    "train[['Product_Holdings','Is_Churn']].groupby(['Product_Holdings']).mean()"
   ]
  },
  {
   "cell_type": "markdown",
   "id": "1d4203b6",
   "metadata": {},
   "source": [
    "Customers whose product holdings are only 1 are more likely to churn and these are equally higher than 2 product holdings."
   ]
  },
  {
   "cell_type": "code",
   "execution_count": 23,
   "id": "f7a0cb2e",
   "metadata": {},
   "outputs": [
    {
     "data": {
      "text/plain": [
       "<AxesSubplot:xlabel='Credit_Category', ylabel='count'>"
      ]
     },
     "execution_count": 23,
     "metadata": {},
     "output_type": "execute_result"
    },
    {
     "data": {
      "image/png": "[encoded data removed]",
      "text/plain": [
       "<Figure size 720x432 with 1 Axes>"
      ]
     },
     "metadata": {
      "needs_background": "light"
     },
     "output_type": "display_data"
    }
   ],
   "source": [
    "#here we are using countplot to check the distribution of Credit_Category\n",
    "\n",
    "plt.figure(figsize=(10,6))\n",
    "\n",
    "sns.countplot(\"Credit_Category\", data=train)"
   ]
  },
  {
   "cell_type": "code",
   "execution_count": 24,
   "id": "ed8946e6",
   "metadata": {},
   "outputs": [
    {
     "data": {
      "text/html": [
       "<div>\n",
       "<style scoped>\n",
       "    .dataframe tbody tr th:only-of-type {\n",
       "        vertical-align: middle;\n",
       "    }\n",
       "\n",
       "    .dataframe tbody tr th {\n",
       "        vertical-align: top;\n",
       "    }\n",
       "\n",
       "    .dataframe thead th {\n",
       "        text-align: right;\n",
       "    }\n",
       "</style>\n",
       "<table border=\"1\" class=\"dataframe\">\n",
       "  <thead>\n",
       "    <tr style=\"text-align: right;\">\n",
       "      <th></th>\n",
       "      <th>Is_Churn</th>\n",
       "    </tr>\n",
       "    <tr>\n",
       "      <th>Credit_Category</th>\n",
       "      <th></th>\n",
       "    </tr>\n",
       "  </thead>\n",
       "  <tbody>\n",
       "    <tr>\n",
       "      <th>Average</th>\n",
       "      <td>0.230543</td>\n",
       "    </tr>\n",
       "    <tr>\n",
       "      <th>Good</th>\n",
       "      <td>0.203135</td>\n",
       "    </tr>\n",
       "    <tr>\n",
       "      <th>Poor</th>\n",
       "      <td>0.245449</td>\n",
       "    </tr>\n",
       "  </tbody>\n",
       "</table>\n",
       "</div>"
      ],
      "text/plain": [
       "                 Is_Churn\n",
       "Credit_Category          \n",
       "Average          0.230543\n",
       "Good             0.203135\n",
       "Poor             0.245449"
      ]
     },
     "execution_count": 24,
     "metadata": {},
     "output_type": "execute_result"
    }
   ],
   "source": [
    "train[['Credit_Category','Is_Churn']].groupby(['Credit_Category']).mean()"
   ]
  },
  {
   "cell_type": "markdown",
   "id": "e01019d1",
   "metadata": {},
   "source": [
    "poor credit category customers are more likely to churn and these customers are higher amongst others."
   ]
  },
  {
   "cell_type": "code",
   "execution_count": 25,
   "id": "2a1c90d6",
   "metadata": {},
   "outputs": [
    {
     "data": {
      "text/plain": [
       "<AxesSubplot:xlabel='Vintage', ylabel='count'>"
      ]
     },
     "execution_count": 25,
     "metadata": {},
     "output_type": "execute_result"
    },
    {
     "data": {
      "image/png": "[encoded data removed]",
      "text/plain": [
       "<Figure size 720x432 with 1 Axes>"
      ]
     },
     "metadata": {
      "needs_background": "light"
     },
     "output_type": "display_data"
    }
   ],
   "source": [
    "#here we are using countplot to check the distribution of Vintage\n",
    "\n",
    "plt.figure(figsize=(10,6))\n",
    "\n",
    "sns.countplot(\"Vintage\", data=train)"
   ]
  },
  {
   "cell_type": "code",
   "execution_count": 26,
   "id": "6069faa7",
   "metadata": {},
   "outputs": [
    {
     "data": {
      "text/html": [
       "<div>\n",
       "<style scoped>\n",
       "    .dataframe tbody tr th:only-of-type {\n",
       "        vertical-align: middle;\n",
       "    }\n",
       "\n",
       "    .dataframe tbody tr th {\n",
       "        vertical-align: top;\n",
       "    }\n",
       "\n",
       "    .dataframe thead th {\n",
       "        text-align: right;\n",
       "    }\n",
       "</style>\n",
       "<table border=\"1\" class=\"dataframe\">\n",
       "  <thead>\n",
       "    <tr style=\"text-align: right;\">\n",
       "      <th></th>\n",
       "      <th>Is_Churn</th>\n",
       "    </tr>\n",
       "    <tr>\n",
       "      <th>Vintage</th>\n",
       "      <th></th>\n",
       "    </tr>\n",
       "  </thead>\n",
       "  <tbody>\n",
       "    <tr>\n",
       "      <th>0</th>\n",
       "      <td>0.210251</td>\n",
       "    </tr>\n",
       "    <tr>\n",
       "      <th>1</th>\n",
       "      <td>0.242245</td>\n",
       "    </tr>\n",
       "    <tr>\n",
       "      <th>2</th>\n",
       "      <td>0.207831</td>\n",
       "    </tr>\n",
       "    <tr>\n",
       "      <th>3</th>\n",
       "      <td>0.241281</td>\n",
       "    </tr>\n",
       "    <tr>\n",
       "      <th>4</th>\n",
       "      <td>0.247685</td>\n",
       "    </tr>\n",
       "    <tr>\n",
       "      <th>5</th>\n",
       "      <td>0.231511</td>\n",
       "    </tr>\n",
       "  </tbody>\n",
       "</table>\n",
       "</div>"
      ],
      "text/plain": [
       "         Is_Churn\n",
       "Vintage          \n",
       "0        0.210251\n",
       "1        0.242245\n",
       "2        0.207831\n",
       "3        0.241281\n",
       "4        0.247685\n",
       "5        0.231511"
      ]
     },
     "execution_count": 26,
     "metadata": {},
     "output_type": "execute_result"
    }
   ],
   "source": [
    "train[['Vintage','Is_Churn']].groupby(['Vintage']).mean()"
   ]
  },
  {
   "cell_type": "markdown",
   "id": "5123cea5",
   "metadata": {},
   "source": [
    "as we see the above outputs income not effecting the target variable so I'm not taking it to model building. Remaining columns are more or less effecting the target variable."
   ]
  },
  {
   "cell_type": "code",
   "execution_count": 27,
   "id": "7f19efdf",
   "metadata": {},
   "outputs": [
    {
     "data": {
      "text/plain": [
       "<AxesSubplot:xlabel='Balance', ylabel='Density'>"
      ]
     },
     "execution_count": 27,
     "metadata": {},
     "output_type": "execute_result"
    },
    {
     "data": {
      "image/png": "[encoded data removed]",
      "text/plain": [
       "<Figure size 864x504 with 2 Axes>"
      ]
     },
     "metadata": {
      "needs_background": "light"
     },
     "output_type": "display_data"
    }
   ],
   "source": [
    "#we are using distplot to check the distribution of numericl variables\n",
    "\n",
    "fig, axes = plt.subplots(1,2, figsize=(12, 7))\n",
    "\n",
    "sns.distplot(train[\"Age\"], ax=axes[0])\n",
    "\n",
    "sns.distplot(train[\"Balance\"], ax=axes[1])\n"
   ]
  },
  {
   "cell_type": "markdown",
   "id": "d14d9440",
   "metadata": {},
   "source": [
    "age is normally distributed and balance is not normally distributed. Most of the customers are between 30 to 50 age group. "
   ]
  },
  {
   "cell_type": "code",
   "execution_count": 28,
   "id": "00268038",
   "metadata": {},
   "outputs": [
    {
     "data": {
      "text/html": [
       "<div>\n",
       "<style scoped>\n",
       "    .dataframe tbody tr th:only-of-type {\n",
       "        vertical-align: middle;\n",
       "    }\n",
       "\n",
       "    .dataframe tbody tr th {\n",
       "        vertical-align: top;\n",
       "    }\n",
       "\n",
       "    .dataframe thead th {\n",
       "        text-align: right;\n",
       "    }\n",
       "</style>\n",
       "<table border=\"1\" class=\"dataframe\">\n",
       "  <thead>\n",
       "    <tr style=\"text-align: right;\">\n",
       "      <th></th>\n",
       "      <th>Age</th>\n",
       "      <th>Balance</th>\n",
       "    </tr>\n",
       "    <tr>\n",
       "      <th>Is_Churn</th>\n",
       "      <th></th>\n",
       "      <th></th>\n",
       "    </tr>\n",
       "  </thead>\n",
       "  <tbody>\n",
       "    <tr>\n",
       "      <th>0</th>\n",
       "      <td>40.045375</td>\n",
       "      <td>788653.739642</td>\n",
       "    </tr>\n",
       "    <tr>\n",
       "      <th>1</th>\n",
       "      <td>44.739102</td>\n",
       "      <td>857626.896461</td>\n",
       "    </tr>\n",
       "  </tbody>\n",
       "</table>\n",
       "</div>"
      ],
      "text/plain": [
       "                Age        Balance\n",
       "Is_Churn                          \n",
       "0         40.045375  788653.739642\n",
       "1         44.739102  857626.896461"
      ]
     },
     "execution_count": 28,
     "metadata": {},
     "output_type": "execute_result"
    }
   ],
   "source": [
    "#here we are checking for churn rate variation according to age and balance\n",
    "\n",
    "train[['Age','Balance','Is_Churn']].groupby(['Is_Churn']).mean()\n",
    "\n"
   ]
  },
  {
   "cell_type": "markdown",
   "id": "a1787de7",
   "metadata": {},
   "source": [
    "customers having age around 45 and balance around 0.85L have more churn rate."
   ]
  },
  {
   "cell_type": "code",
   "execution_count": 29,
   "id": "a1966548",
   "metadata": {},
   "outputs": [
    {
     "data": {
      "image/png": "[encoded data removed]",
      "text/plain": [
       "<Figure size 555.125x504 with 1 Axes>"
      ]
     },
     "metadata": {
      "needs_background": "light"
     },
     "output_type": "display_data"
    }
   ],
   "source": [
    "#plotting distplot to check the distribution of age among churn rate\n",
    "\n",
    "sns.FacetGrid(train, hue='Is_Churn',size=7).map(sns.distplot, 'Age').add_legend()\n",
    "\n",
    "plt.title('Churn rate VS Age')\n",
    "\n",
    "plt.show()\n"
   ]
  },
  {
   "cell_type": "markdown",
   "id": "3d9e48c4",
   "metadata": {},
   "source": [
    "Customers having age group 40 to 50 has more churn rate."
   ]
  },
  {
   "cell_type": "code",
   "execution_count": 30,
   "id": "b24a7b73",
   "metadata": {},
   "outputs": [
    {
     "data": {
      "image/png": "[encoded data removed]",
      "text/plain": [
       "<Figure size 555.125x504 with 1 Axes>"
      ]
     },
     "metadata": {
      "needs_background": "light"
     },
     "output_type": "display_data"
    }
   ],
   "source": [
    "#plotting distplot to check the distribution of balance among churn rate\n",
    "\n",
    "sns.FacetGrid(train, hue='Is_Churn',size=7).map(sns.distplot, 'Balance').add_legend()\n",
    "\n",
    "plt.title('Churn rate VS Balance')\n",
    "\n",
    "plt.show()"
   ]
  },
  {
   "cell_type": "markdown",
   "id": "1076249b",
   "metadata": {},
   "source": [
    "customers who are having 0.5 to 1.0 lakh balance has more churn rate."
   ]
  },
  {
   "cell_type": "markdown",
   "id": "5089cacb",
   "metadata": {},
   "source": [
    "After exploring the variables I've decided not to use the following vaariables as they won't have much predictive power to model.\n",
    "\n",
    "ID, Gender, Credit_Card, Income\n"
   ]
  },
  {
   "cell_type": "code",
   "execution_count": 31,
   "id": "87008488",
   "metadata": {},
   "outputs": [],
   "source": [
    "#here we are using drop function to drop unnecessary columns\n",
    "\n",
    "train.drop(['ID','Gender','Income','Credit_Card'], axis=1, inplace=True)"
   ]
  },
  {
   "cell_type": "markdown",
   "id": "0cbeaf99",
   "metadata": {},
   "source": [
    "### Data preprocessing"
   ]
  },
  {
   "cell_type": "code",
   "execution_count": 32,
   "id": "06ba5a6e",
   "metadata": {},
   "outputs": [],
   "source": [
    "# converting categorical features to numerical features by label encoding \n",
    "\n",
    "from sklearn.preprocessing import LabelEncoder\n",
    "\n",
    "le = LabelEncoder()\n",
    "\n",
    "#train dataset\n",
    "train[\"Credit_Category\"]=le.fit_transform(train[\"Credit_Category\"])\n",
    "\n",
    "#test Dataset\n",
    "test[\"Credit_Category\"]=le.fit_transform(test[\"Credit_Category\"])\n",
    "\n",
    "#dropping unnecessary features from test dataset\n",
    "test.drop(['Gender','Income','Credit_Card'],axis=1, inplace=True)\n"
   ]
  },
  {
   "cell_type": "code",
   "execution_count": 33,
   "id": "abf4abdd",
   "metadata": {},
   "outputs": [
    {
     "data": {
      "text/html": [
       "<div>\n",
       "<style scoped>\n",
       "    .dataframe tbody tr th:only-of-type {\n",
       "        vertical-align: middle;\n",
       "    }\n",
       "\n",
       "    .dataframe tbody tr th {\n",
       "        vertical-align: top;\n",
       "    }\n",
       "\n",
       "    .dataframe thead th {\n",
       "        text-align: right;\n",
       "    }\n",
       "</style>\n",
       "<table border=\"1\" class=\"dataframe\">\n",
       "  <thead>\n",
       "    <tr style=\"text-align: right;\">\n",
       "      <th></th>\n",
       "      <th>Age</th>\n",
       "      <th>Balance</th>\n",
       "      <th>Vintage</th>\n",
       "      <th>Transaction_Status</th>\n",
       "      <th>Product_Holdings</th>\n",
       "      <th>Credit_Category</th>\n",
       "      <th>Is_Churn</th>\n",
       "    </tr>\n",
       "  </thead>\n",
       "  <tbody>\n",
       "    <tr>\n",
       "      <th>0</th>\n",
       "      <td>36</td>\n",
       "      <td>563266.44</td>\n",
       "      <td>4</td>\n",
       "      <td>0</td>\n",
       "      <td>1</td>\n",
       "      <td>0</td>\n",
       "      <td>1</td>\n",
       "    </tr>\n",
       "    <tr>\n",
       "      <th>1</th>\n",
       "      <td>53</td>\n",
       "      <td>875572.11</td>\n",
       "      <td>2</td>\n",
       "      <td>1</td>\n",
       "      <td>1</td>\n",
       "      <td>2</td>\n",
       "      <td>0</td>\n",
       "    </tr>\n",
       "  </tbody>\n",
       "</table>\n",
       "</div>"
      ],
      "text/plain": [
       "   Age    Balance  Vintage  Transaction_Status  Product_Holdings  \\\n",
       "0   36  563266.44        4                   0                 1   \n",
       "1   53  875572.11        2                   1                 1   \n",
       "\n",
       "   Credit_Category  Is_Churn  \n",
       "0                0         1  \n",
       "1                2         0  "
      ]
     },
     "execution_count": 33,
     "metadata": {},
     "output_type": "execute_result"
    }
   ],
   "source": [
    "train.head(2)"
   ]
  },
  {
   "cell_type": "code",
   "execution_count": 34,
   "id": "c1ba4611",
   "metadata": {},
   "outputs": [
    {
     "data": {
      "text/html": [
       "<div>\n",
       "<style scoped>\n",
       "    .dataframe tbody tr th:only-of-type {\n",
       "        vertical-align: middle;\n",
       "    }\n",
       "\n",
       "    .dataframe tbody tr th {\n",
       "        vertical-align: top;\n",
       "    }\n",
       "\n",
       "    .dataframe thead th {\n",
       "        text-align: right;\n",
       "    }\n",
       "</style>\n",
       "<table border=\"1\" class=\"dataframe\">\n",
       "  <thead>\n",
       "    <tr style=\"text-align: right;\">\n",
       "      <th></th>\n",
       "      <th>ID</th>\n",
       "      <th>Age</th>\n",
       "      <th>Balance</th>\n",
       "      <th>Vintage</th>\n",
       "      <th>Transaction_Status</th>\n",
       "      <th>Product_Holdings</th>\n",
       "      <th>Credit_Category</th>\n",
       "    </tr>\n",
       "  </thead>\n",
       "  <tbody>\n",
       "    <tr>\n",
       "      <th>0</th>\n",
       "      <td>55480787</td>\n",
       "      <td>50</td>\n",
       "      <td>1008636.39</td>\n",
       "      <td>2</td>\n",
       "      <td>1</td>\n",
       "      <td>2</td>\n",
       "      <td>0</td>\n",
       "    </tr>\n",
       "    <tr>\n",
       "      <th>1</th>\n",
       "      <td>9aededf2</td>\n",
       "      <td>36</td>\n",
       "      <td>341460.72</td>\n",
       "      <td>2</td>\n",
       "      <td>0</td>\n",
       "      <td>2</td>\n",
       "      <td>0</td>\n",
       "    </tr>\n",
       "  </tbody>\n",
       "</table>\n",
       "</div>"
      ],
      "text/plain": [
       "         ID  Age     Balance  Vintage  Transaction_Status  Product_Holdings  \\\n",
       "0  55480787   50  1008636.39        2                   1                 2   \n",
       "1  9aededf2   36   341460.72        2                   0                 2   \n",
       "\n",
       "   Credit_Category  \n",
       "0                0  \n",
       "1                0  "
      ]
     },
     "execution_count": 34,
     "metadata": {},
     "output_type": "execute_result"
    }
   ],
   "source": [
    "test.head(2)"
   ]
  },
  {
   "cell_type": "markdown",
   "id": "22479f29",
   "metadata": {},
   "source": [
    "### Resampling "
   ]
  },
  {
   "cell_type": "markdown",
   "id": "d2b39698",
   "metadata": {},
   "source": [
    "As we earlier see target variable has imbalanced class distribution so it is not suitable for machine learning models. I will use upsampling which means increasing the number of samples of the class with less samples by randomly selecting rows from it."
   ]
  },
  {
   "cell_type": "code",
   "execution_count": 35,
   "id": "f6afac23",
   "metadata": {},
   "outputs": [
    {
     "data": {
      "image/png": "[encoded data removed]",
      "text/plain": [
       "<Figure size 432x288 with 1 Axes>"
      ]
     },
     "metadata": {
      "needs_background": "light"
     },
     "output_type": "display_data"
    }
   ],
   "source": [
    "#plotting countplot before upsampling\n",
    "\n",
    "sns.countplot('Is_Churn', data=train).set_title('Class Distribution Before Resampling')\n",
    "\n",
    "plt.show()"
   ]
  },
  {
   "cell_type": "code",
   "execution_count": 36,
   "id": "924963c0",
   "metadata": {},
   "outputs": [
    {
     "name": "stdout",
     "output_type": "stream",
     "text": [
      "5113\n"
     ]
    },
    {
     "data": {
      "image/png": "[encoded data removed]",
      "text/plain": [
       "<Figure size 432x288 with 1 Axes>"
      ]
     },
     "metadata": {
      "needs_background": "light"
     },
     "output_type": "display_data"
    }
   ],
   "source": [
    "#separating positive and negative classes\n",
    "\n",
    "train_no = train[train.Is_Churn == 0]\n",
    "train_yes = train[train.Is_Churn == 1]\n",
    "\n",
    "#upsampling the positive class\n",
    "\n",
    "train_yes_upsampled = train_yes.sample(n=len(train_no), replace=True, random_state=42)\n",
    "\n",
    "print(len(train_yes_upsampled))\n",
    "\n",
    "#combining positive and negative class and checking the class distribution\n",
    "\n",
    "train_upsampled = train_no.append(train_yes_upsampled).reset_index(drop=True)\n",
    "\n",
    "#plotting countplot after upsampling\n",
    "sns.countplot('Is_Churn', data=train_upsampled).set_title('Class Distribution After Resampling')\n",
    "\n",
    "plt.show()"
   ]
  },
  {
   "cell_type": "markdown",
   "id": "c13a8030",
   "metadata": {},
   "source": [
    "### model creation and evaluation "
   ]
  },
  {
   "cell_type": "code",
   "execution_count": 37,
   "id": "3251fd2b",
   "metadata": {},
   "outputs": [],
   "source": [
    "#importing test train split\n",
    "\n",
    "from sklearn.model_selection import train_test_split\n",
    "\n",
    "#assigning independent variables to x\n",
    "x = train_upsampled.drop('Is_Churn',axis=1).values\n",
    "\n",
    "#assigning dependent variable to y\n",
    "y = train_upsampled.Is_Churn.values\n",
    "\n",
    "#extracting final submission id\n",
    "submission_id = test.ID\n",
    "\n",
    "#dropping ID column from test set\n",
    "test = test.drop('ID', axis=1)\n",
    "\n",
    "# spliting the data into test and train giving test size as 0.3\n",
    "x_train, x_test , y_train, y_test = train_test_split(x, y , test_size=0.3, random_state=0)"
   ]
  },
  {
   "cell_type": "markdown",
   "id": "7ff8ad72",
   "metadata": {},
   "source": [
    "### Feature Scaling"
   ]
  },
  {
   "cell_type": "code",
   "execution_count": 38,
   "id": "8099fe5f",
   "metadata": {},
   "outputs": [],
   "source": [
    "# creating the object of minmax scaler\n",
    "\n",
    "from sklearn.preprocessing import MinMaxScaler\n",
    "\n",
    "sc = MinMaxScaler()\n",
    "\n",
    "#scaling x train\n",
    "x_train = sc.fit_transform(x_train)\n",
    "\n",
    "#scaling x test\n",
    "x_test = sc.transform(x_test)\n",
    "\n",
    "#scaling test dataset\n",
    "test = sc.transform(test)"
   ]
  },
  {
   "cell_type": "code",
   "execution_count": 39,
   "id": "12055ffe",
   "metadata": {},
   "outputs": [],
   "source": [
    "# Import Machine learning algorithms\n",
    "from sklearn.linear_model import LogisticRegression\n",
    "from sklearn.svm import SVC\n",
    "from sklearn.ensemble import RandomForestClassifier\n",
    "from sklearn.tree import DecisionTreeClassifier\n",
    "\n",
    "#Import metric for performance evaluation\n",
    "from sklearn.metrics import accuracy_score, precision_score, recall_score, f1_score, confusion_matrix\n",
    "\n",
    "#Defining the modelling function\n",
    "def modeling(alg, alg_name, params={}):\n",
    "    model = alg(**params) #Instantiating the algorithm class and unpacking parameters if any\n",
    "    model.fit(x_train, y_train)\n",
    "    y_pred = model.predict(x_test)\n",
    "    \n",
    "    #Performance evaluation\n",
    "    def print_scores(alg, y_true, y_pred):\n",
    "        print(alg_name)\n",
    "        acc_score = accuracy_score(y_true, y_pred)\n",
    "        print(\"accuracy: \",acc_score)\n",
    "        pre_score = precision_score(y_true, y_pred)\n",
    "        print(\"precision: \",pre_score)\n",
    "        rec_score = recall_score(y_true, y_pred)                            \n",
    "        print(\"recall: \",rec_score)\n",
    "        f_score = f1_score(y_true, y_pred, average='weighted')\n",
    "        print(\"f1_score: \",f_score)\n",
    "        con_matrix = confusion_matrix(y_true, y_pred)\n",
    "        print(\"confusion matrix: \" , con_matrix)\n",
    "\n",
    "    print_scores(alg, y_test, y_pred)\n",
    "    return model"
   ]
  },
  {
   "cell_type": "code",
   "execution_count": 40,
   "id": "fb43d76c",
   "metadata": {},
   "outputs": [
    {
     "name": "stdout",
     "output_type": "stream",
     "text": [
      "Logistic Regression\n",
      "accuracy:  0.6082138200782269\n",
      "precision:  0.6136986301369863\n",
      "recall:  0.5840938722294654\n",
      "f1_score:  0.6079857572135571\n",
      "confusion matrix:  [[970 564]\n",
      " [638 896]]\n"
     ]
    }
   ],
   "source": [
    "# Running logistic regression model\n",
    "\n",
    "log_model = modeling(LogisticRegression, 'Logistic Regression')"
   ]
  },
  {
   "cell_type": "code",
   "execution_count": 41,
   "id": "0da2d274",
   "metadata": {},
   "outputs": [
    {
     "name": "stdout",
     "output_type": "stream",
     "text": [
      "SVC Classification\n",
      "accuracy:  0.614406779661017\n",
      "precision:  0.6158415841584158\n",
      "recall:  0.6082138200782269\n",
      "f1_score:  0.6143919905340511\n",
      "confusion matrix:  [[952 582]\n",
      " [601 933]]\n"
     ]
    }
   ],
   "source": [
    "#running support vector machine model\n",
    "svc_model = modeling(SVC, 'SVC Classification')"
   ]
  },
  {
   "cell_type": "code",
   "execution_count": 59,
   "id": "f9fcbf6b",
   "metadata": {},
   "outputs": [
    {
     "name": "stdout",
     "output_type": "stream",
     "text": [
      "Random Forest Classification\n",
      "accuracy:  0.8604954367666232\n",
      "precision:  0.822637106184364\n",
      "recall:  0.9191655801825294\n",
      "f1_score:  0.8600135775009211\n",
      "confusion matrix:  [[1230  304]\n",
      " [ 124 1410]]\n"
     ]
    }
   ],
   "source": [
    "# running Random forest model\n",
    "rf_model = modeling(RandomForestClassifier, \"Random Forest Classification\")\n",
    "\n",
    "y_pred1_rf = rf_model.predict(x_test)"
   ]
  },
  {
   "cell_type": "code",
   "execution_count": 43,
   "id": "f94fdea2",
   "metadata": {},
   "outputs": [
    {
     "name": "stdout",
     "output_type": "stream",
     "text": [
      "Decision Tree Classification\n",
      "accuracy:  0.8282268578878749\n",
      "precision:  0.7755883962780514\n",
      "recall:  0.923728813559322\n",
      "f1_score:  0.8266457591182373\n",
      "confusion matrix:  [[1124  410]\n",
      " [ 117 1417]]\n"
     ]
    }
   ],
   "source": [
    "# running Decision tree model\n",
    "dt_model = modeling(DecisionTreeClassifier, \"Decision Tree Classification\")"
   ]
  },
  {
   "cell_type": "code",
   "execution_count": 44,
   "id": "46bb14d0",
   "metadata": {},
   "outputs": [],
   "source": [
    "#as we can see the above results in randomforest model we got high accuracy values so I'm taking this to predict test dataset\n",
    "Is_Churn_submission = rf_model.predict(test)"
   ]
  },
  {
   "cell_type": "code",
   "execution_count": 45,
   "id": "981332a7",
   "metadata": {},
   "outputs": [
    {
     "data": {
      "text/plain": [
       "array([0, 0, 0, ..., 1, 1, 1], dtype=int64)"
      ]
     },
     "execution_count": 45,
     "metadata": {},
     "output_type": "execute_result"
    }
   ],
   "source": [
    "Is_Churn_submission"
   ]
  },
  {
   "cell_type": "code",
   "execution_count": 46,
   "id": "99429690",
   "metadata": {},
   "outputs": [
    {
     "data": {
      "text/html": [
       "<div>\n",
       "<style scoped>\n",
       "    .dataframe tbody tr th:only-of-type {\n",
       "        vertical-align: middle;\n",
       "    }\n",
       "\n",
       "    .dataframe tbody tr th {\n",
       "        vertical-align: top;\n",
       "    }\n",
       "\n",
       "    .dataframe thead th {\n",
       "        text-align: right;\n",
       "    }\n",
       "</style>\n",
       "<table border=\"1\" class=\"dataframe\">\n",
       "  <thead>\n",
       "    <tr style=\"text-align: right;\">\n",
       "      <th></th>\n",
       "      <th>ID</th>\n",
       "      <th>Is_Churn</th>\n",
       "    </tr>\n",
       "  </thead>\n",
       "  <tbody>\n",
       "    <tr>\n",
       "      <th>0</th>\n",
       "      <td>55480787</td>\n",
       "      <td>0</td>\n",
       "    </tr>\n",
       "    <tr>\n",
       "      <th>1</th>\n",
       "      <td>9aededf2</td>\n",
       "      <td>0</td>\n",
       "    </tr>\n",
       "    <tr>\n",
       "      <th>2</th>\n",
       "      <td>a5034a09</td>\n",
       "      <td>0</td>\n",
       "    </tr>\n",
       "    <tr>\n",
       "      <th>3</th>\n",
       "      <td>b3256702</td>\n",
       "      <td>0</td>\n",
       "    </tr>\n",
       "    <tr>\n",
       "      <th>4</th>\n",
       "      <td>dc28adb5</td>\n",
       "      <td>0</td>\n",
       "    </tr>\n",
       "  </tbody>\n",
       "</table>\n",
       "</div>"
      ],
      "text/plain": [
       "         ID  Is_Churn\n",
       "0  55480787         0\n",
       "1  9aededf2         0\n",
       "2  a5034a09         0\n",
       "3  b3256702         0\n",
       "4  dc28adb5         0"
      ]
     },
     "execution_count": 46,
     "metadata": {},
     "output_type": "execute_result"
    }
   ],
   "source": [
    "#storing id and test predictions to dataframe submission \n",
    "\n",
    "submission = pd.DataFrame({'ID':submission_id, 'Is_Churn':Is_Churn_submission})\n",
    "submission.head()"
   ]
  }
 ],
 "metadata": {
  "kernelspec": {
   "display_name": "Python 3",
   "language": "python",
   "name": "python3"
  },
  "language_info": {
   "codemirror_mode": {
    "name": "ipython",
    "version": 3
   },
   "file_extension": ".py",
   "mimetype": "text/x-python",
   "name": "python",
   "nbconvert_exporter": "python",
   "pygments_lexer": "ipython3",
   "version": "3.8.8"
  }
 },
 "nbformat": 4,
 "nbformat_minor": 5
}
